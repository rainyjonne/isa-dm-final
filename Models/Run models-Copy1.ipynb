{
 "cells": [
  {
   "cell_type": "code",
   "execution_count": 1,
   "id": "involved-affiliate",
   "metadata": {},
   "outputs": [],
   "source": [
    "import numpy as np\n",
    "import pandas as pd\n",
    "import joblib"
   ]
  },
  {
   "cell_type": "markdown",
   "id": "automatic-immunology",
   "metadata": {},
   "source": [
    "# Model running"
   ]
  },
  {
   "cell_type": "markdown",
   "id": "white-cabin",
   "metadata": {},
   "source": [
    "## 1. Heimin extract models\n",
    "- features\n",
    "    - article_vectors (appearance)\n",
    "    - au_score (similarity)\n",
    "    - tfidf_cosine_once_keyword\n",
    "    - sim_hash"
   ]
  },
  {
   "cell_type": "code",
   "execution_count": 2,
   "id": "bridal-tower",
   "metadata": {},
   "outputs": [],
   "source": [
    "# read in train x data & train y labels & test x data\n",
    "X1 = np.load(\"heimin_extract_train_x.npy\")\n",
    "Y1 = np.load(\"heimin_extract_train_y.npy\")\n",
    "X2 = np.load(\"heimin_extract_test_x.npy\")"
   ]
  },
  {
   "cell_type": "code",
   "execution_count": 3,
   "id": "smooth-significance",
   "metadata": {},
   "outputs": [
    {
     "data": {
      "text/plain": [
       "array([0, 0, 0, ..., 0, 0, 0], dtype=int64)"
      ]
     },
     "execution_count": 3,
     "metadata": {},
     "output_type": "execute_result"
    }
   ],
   "source": [
    "# encode labels\n",
    "from sklearn.preprocessing import LabelEncoder\n",
    "\n",
    "le = LabelEncoder()\n",
    "y = le.fit_transform(Y1)\n",
    "y"
   ]
  },
  {
   "cell_type": "code",
   "execution_count": 4,
   "id": "republican-genius",
   "metadata": {},
   "outputs": [],
   "source": [
    "# split train set & test set\n",
    "from sklearn.model_selection import train_test_split\n",
    "X1_train, X1_test, y1_train, y1_test = train_test_split(X1, y, test_size=0.3, random_state=1)"
   ]
  },
  {
   "cell_type": "code",
   "execution_count": 5,
   "id": "demographic-mauritius",
   "metadata": {},
   "outputs": [
    {
     "name": "stderr",
     "output_type": "stream",
     "text": [
      "C:\\ProgramData\\Anaconda3\\lib\\site-packages\\xgboost\\sklearn.py:1224: UserWarning: The use of label encoder in XGBClassifier is deprecated and will be removed in a future release. To remove this warning, do the following: 1) Pass option use_label_encoder=False when constructing XGBClassifier object; and 2) Encode your labels (y) as integers starting with 0, i.e. 0, 1, 2, ..., [num_class - 1].\n",
      "  warnings.warn(label_encoder_deprecation_msg, UserWarning)\n"
     ]
    },
    {
     "name": "stdout",
     "output_type": "stream",
     "text": [
      "[21:50:10] WARNING: C:/Users/Administrator/workspace/xgboost-win64_release_1.5.1/src/learner.cc:1115: Starting in XGBoost 1.3.0, the default evaluation metric used with the objective 'binary:logistic' was changed from 'error' to 'logloss'. Explicitly set eval_metric if you'd like to restore the old behavior.\n",
      "              precision    recall  f1-score   support\n",
      "\n",
      "           0     0.9998    0.9987    0.9992     93157\n",
      "           1     0.7663    0.9524    0.8493       420\n",
      "\n",
      "    accuracy                         0.9985     93577\n",
      "   macro avg     0.8830    0.9755    0.9242     93577\n",
      "weighted avg     0.9987    0.9985    0.9986     93577\n",
      "\n",
      "              precision    recall  f1-score   support\n",
      "\n",
      "           0     0.9545    0.9987    0.9761 46788.499999922635\n",
      "           1     0.9986    0.9524    0.9750 46788.50000000031\n",
      "\n",
      "    accuracy                         0.9755 93576.99999992295\n",
      "   macro avg     0.9766    0.9755    0.9755 93576.99999992295\n",
      "weighted avg     0.9766    0.9755    0.9755 93576.99999992295\n",
      "\n"
     ]
    }
   ],
   "source": [
    "# use XGBoost to classify\n",
    "from sklearn.utils import class_weight\n",
    "from xgboost.sklearn import XGBClassifier\n",
    "train_sample = class_weight.compute_sample_weight('balanced', y1_train)\n",
    "test_sample = class_weight.compute_sample_weight('balanced', y1_test)\n",
    "clf3 =  XGBClassifier(seed=1)\n",
    "clf3.fit(X1_train, y1_train, sample_weight=train_sample)# predict\n",
    "y1_pred = clf3.predict(X1_test)"
   ]
  },
  {
   "cell_type": "code",
   "execution_count": 6,
   "id": "seasonal-kinase",
   "metadata": {},
   "outputs": [],
   "source": [
    "# predict\n",
    "y1_pred = clf3.predict(X1_test)"
   ]
  },
  {
   "cell_type": "code",
   "execution_count": 7,
   "id": "banned-somalia",
   "metadata": {},
   "outputs": [
    {
     "data": {
      "text/plain": [
       "0.9755356676414673"
      ]
     },
     "execution_count": 7,
     "metadata": {},
     "output_type": "execute_result"
    }
   ],
   "source": [
    "# accuracy score for the result\n",
    "from sklearn.metrics import accuracy_score\n",
    "accuracy_score(y_true=y1_test, y_pred=y1_pred, sample_weight=test_sample)"
   ]
  },
  {
   "cell_type": "code",
   "execution_count": 8,
   "id": "silent-consideration",
   "metadata": {},
   "outputs": [
    {
     "name": "stdout",
     "output_type": "stream",
     "text": [
      "              precision    recall  f1-score   support\n",
      "\n",
      "           0     0.9998    0.9987    0.9992     93157\n",
      "           1     0.7663    0.9524    0.8493       420\n",
      "\n",
      "    accuracy                         0.9985     93577\n",
      "   macro avg     0.8830    0.9755    0.9242     93577\n",
      "weighted avg     0.9987    0.9985    0.9986     93577\n",
      "\n",
      "              precision    recall  f1-score   support\n",
      "\n",
      "           0     0.9545    0.9987    0.9761 46788.499999922635\n",
      "           1     0.9986    0.9524    0.9750 46788.50000000031\n",
      "\n",
      "    accuracy                         0.9755 93576.99999992295\n",
      "   macro avg     0.9766    0.9755    0.9755 93576.99999992295\n",
      "weighted avg     0.9766    0.9755    0.9755 93576.99999992295\n",
      "\n"
     ]
    }
   ],
   "source": [
    "from sklearn.metrics import classification_report\n",
    "print(classification_report(y_true=y1_test, y_pred=y1_pred, digits=4))\n",
    "print(classification_report(y_true=y1_test, y_pred=y1_pred, digits=4, sample_weight=test_sample))"
   ]
  },
  {
   "cell_type": "code",
   "execution_count": 10,
   "id": "earned-familiar",
   "metadata": {},
   "outputs": [],
   "source": [
    "# predict stage 2\n",
    "Y2 = clf3.predict(X2)"
   ]
  },
  {
   "cell_type": "code",
   "execution_count": 18,
   "id": "express-temperature",
   "metadata": {},
   "outputs": [
    {
     "data": {
      "text/html": [
       "<div>\n",
       "<style scoped>\n",
       "    .dataframe tbody tr th:only-of-type {\n",
       "        vertical-align: middle;\n",
       "    }\n",
       "\n",
       "    .dataframe tbody tr th {\n",
       "        vertical-align: top;\n",
       "    }\n",
       "\n",
       "    .dataframe thead th {\n",
       "        text-align: right;\n",
       "    }\n",
       "</style>\n",
       "<table border=\"1\" class=\"dataframe\">\n",
       "  <thead>\n",
       "    <tr style=\"text-align: right;\">\n",
       "      <th></th>\n",
       "      <th>Test</th>\n",
       "      <th>Reference</th>\n",
       "      <th>Similarity</th>\n",
       "      <th>Result</th>\n",
       "    </tr>\n",
       "  </thead>\n",
       "  <tbody>\n",
       "    <tr>\n",
       "      <th>26</th>\n",
       "      <td>1001</td>\n",
       "      <td>1064</td>\n",
       "      <td>0.75</td>\n",
       "      <td>1</td>\n",
       "    </tr>\n",
       "    <tr>\n",
       "      <th>155</th>\n",
       "      <td>1001</td>\n",
       "      <td>19</td>\n",
       "      <td>1.00</td>\n",
       "      <td>1</td>\n",
       "    </tr>\n",
       "    <tr>\n",
       "      <th>382</th>\n",
       "      <td>1001</td>\n",
       "      <td>889</td>\n",
       "      <td>1.00</td>\n",
       "      <td>1</td>\n",
       "    </tr>\n",
       "    <tr>\n",
       "      <th>1545</th>\n",
       "      <td>1008</td>\n",
       "      <td>573</td>\n",
       "      <td>1.00</td>\n",
       "      <td>1</td>\n",
       "    </tr>\n",
       "    <tr>\n",
       "      <th>1546</th>\n",
       "      <td>1008</td>\n",
       "      <td>574</td>\n",
       "      <td>1.00</td>\n",
       "      <td>1</td>\n",
       "    </tr>\n",
       "    <tr>\n",
       "      <th>...</th>\n",
       "      <td>...</td>\n",
       "      <td>...</td>\n",
       "      <td>...</td>\n",
       "      <td>...</td>\n",
       "    </tr>\n",
       "    <tr>\n",
       "      <th>171176</th>\n",
       "      <td>960</td>\n",
       "      <td>426</td>\n",
       "      <td>1.00</td>\n",
       "      <td>1</td>\n",
       "    </tr>\n",
       "    <tr>\n",
       "      <th>171195</th>\n",
       "      <td>960</td>\n",
       "      <td>464</td>\n",
       "      <td>0.75</td>\n",
       "      <td>1</td>\n",
       "    </tr>\n",
       "    <tr>\n",
       "      <th>171323</th>\n",
       "      <td>960</td>\n",
       "      <td>889</td>\n",
       "      <td>1.00</td>\n",
       "      <td>1</td>\n",
       "    </tr>\n",
       "    <tr>\n",
       "      <th>174945</th>\n",
       "      <td>991</td>\n",
       "      <td>407</td>\n",
       "      <td>1.00</td>\n",
       "      <td>1</td>\n",
       "    </tr>\n",
       "    <tr>\n",
       "      <th>175109</th>\n",
       "      <td>991</td>\n",
       "      <td>908</td>\n",
       "      <td>1.00</td>\n",
       "      <td>1</td>\n",
       "    </tr>\n",
       "  </tbody>\n",
       "</table>\n",
       "<p>837 rows × 4 columns</p>\n",
       "</div>"
      ],
      "text/plain": [
       "        Test  Reference  Similarity  Result\n",
       "26      1001       1064        0.75       1\n",
       "155     1001         19        1.00       1\n",
       "382     1001        889        1.00       1\n",
       "1545    1008        573        1.00       1\n",
       "1546    1008        574        1.00       1\n",
       "...      ...        ...         ...     ...\n",
       "171176   960        426        1.00       1\n",
       "171195   960        464        0.75       1\n",
       "171323   960        889        1.00       1\n",
       "174945   991        407        1.00       1\n",
       "175109   991        908        1.00       1\n",
       "\n",
       "[837 rows x 4 columns]"
      ]
     },
     "execution_count": 18,
     "metadata": {},
     "output_type": "execute_result"
    }
   ],
   "source": [
    "# read in stage 2 labels for final double check\n",
    "\n",
    "stage2_res_df =  pd.read_csv(\"stage2_result_labels.csv\")\n",
    "stage2_results = pd.Series(Y2)\n",
    "stage2_res_df['Result'] = stage2_results\n",
    "stage2_res_df = stage2_res_df.loc[stage2_res_df['Result'] == 1]\n",
    "stage2_res_df"
   ]
  },
  {
   "cell_type": "code",
   "execution_count": 31,
   "id": "intended-quarterly",
   "metadata": {},
   "outputs": [
    {
     "data": {
      "text/html": [
       "<div>\n",
       "<style scoped>\n",
       "    .dataframe tbody tr th:only-of-type {\n",
       "        vertical-align: middle;\n",
       "    }\n",
       "\n",
       "    .dataframe tbody tr th {\n",
       "        vertical-align: top;\n",
       "    }\n",
       "\n",
       "    .dataframe thead th {\n",
       "        text-align: right;\n",
       "    }\n",
       "</style>\n",
       "<table border=\"1\" class=\"dataframe\">\n",
       "  <thead>\n",
       "    <tr style=\"text-align: right;\">\n",
       "      <th></th>\n",
       "      <th>Test</th>\n",
       "      <th>Reference</th>\n",
       "      <th>Similarity</th>\n",
       "      <th>Result</th>\n",
       "    </tr>\n",
       "  </thead>\n",
       "  <tbody>\n",
       "    <tr>\n",
       "      <th>155</th>\n",
       "      <td>1001</td>\n",
       "      <td>19</td>\n",
       "      <td>1.0</td>\n",
       "      <td>1</td>\n",
       "    </tr>\n",
       "    <tr>\n",
       "      <th>382</th>\n",
       "      <td>1001</td>\n",
       "      <td>889</td>\n",
       "      <td>1.0</td>\n",
       "      <td>1</td>\n",
       "    </tr>\n",
       "    <tr>\n",
       "      <th>1545</th>\n",
       "      <td>1008</td>\n",
       "      <td>573</td>\n",
       "      <td>1.0</td>\n",
       "      <td>1</td>\n",
       "    </tr>\n",
       "    <tr>\n",
       "      <th>1546</th>\n",
       "      <td>1008</td>\n",
       "      <td>574</td>\n",
       "      <td>1.0</td>\n",
       "      <td>1</td>\n",
       "    </tr>\n",
       "    <tr>\n",
       "      <th>1703</th>\n",
       "      <td>1009</td>\n",
       "      <td>1061</td>\n",
       "      <td>1.0</td>\n",
       "      <td>1</td>\n",
       "    </tr>\n",
       "    <tr>\n",
       "      <th>...</th>\n",
       "      <td>...</td>\n",
       "      <td>...</td>\n",
       "      <td>...</td>\n",
       "      <td>...</td>\n",
       "    </tr>\n",
       "    <tr>\n",
       "      <th>171094</th>\n",
       "      <td>960</td>\n",
       "      <td>177</td>\n",
       "      <td>1.0</td>\n",
       "      <td>1</td>\n",
       "    </tr>\n",
       "    <tr>\n",
       "      <th>171176</th>\n",
       "      <td>960</td>\n",
       "      <td>426</td>\n",
       "      <td>1.0</td>\n",
       "      <td>1</td>\n",
       "    </tr>\n",
       "    <tr>\n",
       "      <th>171323</th>\n",
       "      <td>960</td>\n",
       "      <td>889</td>\n",
       "      <td>1.0</td>\n",
       "      <td>1</td>\n",
       "    </tr>\n",
       "    <tr>\n",
       "      <th>174945</th>\n",
       "      <td>991</td>\n",
       "      <td>407</td>\n",
       "      <td>1.0</td>\n",
       "      <td>1</td>\n",
       "    </tr>\n",
       "    <tr>\n",
       "      <th>175109</th>\n",
       "      <td>991</td>\n",
       "      <td>908</td>\n",
       "      <td>1.0</td>\n",
       "      <td>1</td>\n",
       "    </tr>\n",
       "  </tbody>\n",
       "</table>\n",
       "<p>760 rows × 4 columns</p>\n",
       "</div>"
      ],
      "text/plain": [
       "        Test  Reference  Similarity  Result\n",
       "155     1001         19         1.0       1\n",
       "382     1001        889         1.0       1\n",
       "1545    1008        573         1.0       1\n",
       "1546    1008        574         1.0       1\n",
       "1703    1009       1061         1.0       1\n",
       "...      ...        ...         ...     ...\n",
       "171094   960        177         1.0       1\n",
       "171176   960        426         1.0       1\n",
       "171323   960        889         1.0       1\n",
       "174945   991        407         1.0       1\n",
       "175109   991        908         1.0       1\n",
       "\n",
       "[760 rows x 4 columns]"
      ]
     },
     "execution_count": 31,
     "metadata": {},
     "output_type": "execute_result"
    }
   ],
   "source": [
    "# filter some ugly answers out\n",
    "stage2_res_df = stage2_res_df.loc[stage2_df.Similarity >= 0.78]\n",
    "stage2_res_df"
   ]
  },
  {
   "cell_type": "code",
   "execution_count": 30,
   "id": "powered-assistant",
   "metadata": {},
   "outputs": [],
   "source": [
    "# output results\n",
    "stage2_res_df[[\"Test\", \"Reference\"]].to_csv(\"csv_results/XBOOST_heimin_extract_78.csv\", index=False)"
   ]
  },
  {
   "cell_type": "code",
   "execution_count": 34,
   "id": "computational-draft",
   "metadata": {},
   "outputs": [
    {
     "data": {
      "text/plain": [
       "['XBOOST_hemin_extract_model.sav']"
      ]
     },
     "execution_count": 34,
     "metadata": {},
     "output_type": "execute_result"
    }
   ],
   "source": [
    "# save the model\n",
    "filename = '1_XGBOST_feature_extract_model.sav'\n",
    "joblib.dump(clf3, filename)"
   ]
  },
  {
   "cell_type": "code",
   "execution_count": 3,
   "id": "ready-brake",
   "metadata": {},
   "outputs": [
    {
     "data": {
      "text/plain": [
       "XGBClassifier(base_score=0.5, booster='gbtree', colsample_bylevel=1,\n",
       "              colsample_bynode=1, colsample_bytree=1, enable_categorical=False,\n",
       "              gamma=0, gpu_id=-1, importance_type=None,\n",
       "              interaction_constraints='', learning_rate=0.300000012,\n",
       "              max_delta_step=0, max_depth=6, min_child_weight=1, missing=nan,\n",
       "              monotone_constraints='()', n_estimators=100, n_jobs=2,\n",
       "              num_parallel_tree=1, predictor='auto', random_state=1,\n",
       "              reg_alpha=0, reg_lambda=1, scale_pos_weight=1, seed=1,\n",
       "              subsample=1, tree_method='exact', validate_parameters=1,\n",
       "              verbosity=None)"
      ]
     },
     "execution_count": 3,
     "metadata": {},
     "output_type": "execute_result"
    }
   ],
   "source": [
    "filename = '1_XGBOST_feature_extract_model.sav'\n",
    "loaded_model = joblib.load(filename)\n",
    "loaded_model"
   ]
  },
  {
   "cell_type": "markdown",
   "id": "damaged-wayne",
   "metadata": {},
   "source": [
    "## ~2~. Only similarities in XGBoost models (not good, don't use)\n",
    "- features order\n",
    "    - similarity(au_score), jaccard_once, jaccard_multi, tf_cosine_once_keyword, tfidf_cosine_once_keyword, tf_cosine_multi_keyword, tfidf_cosine_multi_keyword, sim_hash"
   ]
  },
  {
   "cell_type": "code",
   "execution_count": 10,
   "id": "strange-lebanon",
   "metadata": {},
   "outputs": [],
   "source": [
    "# read in train x data & train y labels & test x data\n",
    "X1 = np.load(\"../FeatureExtracting/X1_only_similarities.npy\")\n",
    "Y1 = np.load(\"../FeatureExtracting/Y1.npy\")\n",
    "X2 = np.load(\"../FeatureExtracting/X2_only_similarities.npy\")"
   ]
  },
  {
   "cell_type": "code",
   "execution_count": 12,
   "id": "immune-worcester",
   "metadata": {},
   "outputs": [
    {
     "data": {
      "text/plain": [
       "176820"
      ]
     },
     "execution_count": 12,
     "metadata": {},
     "output_type": "execute_result"
    }
   ],
   "source": [
    "len(X2)"
   ]
  },
  {
   "cell_type": "code",
   "execution_count": 13,
   "id": "exposed-combat",
   "metadata": {},
   "outputs": [
    {
     "data": {
      "text/plain": [
       "array([0, 0, 0, ..., 0, 0, 0], dtype=int64)"
      ]
     },
     "execution_count": 13,
     "metadata": {},
     "output_type": "execute_result"
    }
   ],
   "source": [
    "# encode labels\n",
    "from sklearn.preprocessing import LabelEncoder\n",
    "\n",
    "le = LabelEncoder()\n",
    "y = le.fit_transform(Y1)\n",
    "y"
   ]
  },
  {
   "cell_type": "code",
   "execution_count": 14,
   "id": "mental-quilt",
   "metadata": {},
   "outputs": [],
   "source": [
    "# split train set & test set\n",
    "from sklearn.model_selection import train_test_split\n",
    "X1_train, X1_test, y1_train, y1_test = train_test_split(X1, y, test_size=0.3, random_state=1)"
   ]
  },
  {
   "cell_type": "code",
   "execution_count": 15,
   "id": "stupid-alberta",
   "metadata": {},
   "outputs": [
    {
     "name": "stderr",
     "output_type": "stream",
     "text": [
      "C:\\ProgramData\\Anaconda3\\lib\\site-packages\\xgboost\\sklearn.py:1224: UserWarning: The use of label encoder in XGBClassifier is deprecated and will be removed in a future release. To remove this warning, do the following: 1) Pass option use_label_encoder=False when constructing XGBClassifier object; and 2) Encode your labels (y) as integers starting with 0, i.e. 0, 1, 2, ..., [num_class - 1].\n",
      "  warnings.warn(label_encoder_deprecation_msg, UserWarning)\n"
     ]
    },
    {
     "name": "stdout",
     "output_type": "stream",
     "text": [
      "[17:45:41] WARNING: C:/Users/Administrator/workspace/xgboost-win64_release_1.5.1/src/learner.cc:1115: Starting in XGBoost 1.3.0, the default evaluation metric used with the objective 'binary:logistic' was changed from 'error' to 'logloss'. Explicitly set eval_metric if you'd like to restore the old behavior.\n"
     ]
    }
   ],
   "source": [
    "# use XGBoost to classify\n",
    "from sklearn.utils import class_weight\n",
    "from xgboost.sklearn import XGBClassifier\n",
    "train_sample = class_weight.compute_sample_weight('balanced', y1_train)\n",
    "test_sample = class_weight.compute_sample_weight('balanced', y1_test)\n",
    "clf3 =  XGBClassifier(seed=1)\n",
    "clf3.fit(X1_train, y1_train, sample_weight=train_sample)# predict\n",
    "y1_pred = clf3.predict(X1_test)"
   ]
  },
  {
   "cell_type": "code",
   "execution_count": 16,
   "id": "informational-orleans",
   "metadata": {},
   "outputs": [],
   "source": [
    "# predict\n",
    "y1_pred = clf3.predict(X1_test)"
   ]
  },
  {
   "cell_type": "code",
   "execution_count": 17,
   "id": "purple-heating",
   "metadata": {},
   "outputs": [
    {
     "data": {
      "text/plain": [
       "0.9250848158536251"
      ]
     },
     "execution_count": 17,
     "metadata": {},
     "output_type": "execute_result"
    }
   ],
   "source": [
    "# accuracy score for the result\n",
    "from sklearn.metrics import accuracy_score\n",
    "accuracy_score(y_true=y1_test, y_pred=y1_pred, sample_weight=test_sample)"
   ]
  },
  {
   "cell_type": "code",
   "execution_count": 18,
   "id": "silent-consideration",
   "metadata": {},
   "outputs": [
    {
     "name": "stdout",
     "output_type": "stream",
     "text": [
      "              precision    recall  f1-score   support\n",
      "\n",
      "           0     0.9993    0.9978    0.9986     93157\n",
      "           1     0.6348    0.8524    0.7276       420\n",
      "\n",
      "    accuracy                         0.9971     93577\n",
      "   macro avg     0.8170    0.9251    0.8631     93577\n",
      "weighted avg     0.9977    0.9971    0.9973     93577\n",
      "\n",
      "              precision    recall  f1-score   support\n",
      "\n",
      "           0     0.8711    0.9978    0.9302 46788.499999922635\n",
      "           1     0.9974    0.8524    0.9192 46788.50000000031\n",
      "\n",
      "    accuracy                         0.9251 93576.99999992295\n",
      "   macro avg     0.9343    0.9251    0.9247 93576.99999992295\n",
      "weighted avg     0.9343    0.9251    0.9247 93576.99999992295\n",
      "\n"
     ]
    }
   ],
   "source": [
    "from sklearn.metrics import classification_report\n",
    "print(classification_report(y_true=y1_test, y_pred=y1_pred, digits=4))\n",
    "print(classification_report(y_true=y1_test, y_pred=y1_pred, digits=4, sample_weight=test_sample))"
   ]
  },
  {
   "cell_type": "code",
   "execution_count": 19,
   "id": "earned-familiar",
   "metadata": {},
   "outputs": [],
   "source": [
    "# predict stage 2\n",
    "Y2 = clf3.predict(X2)"
   ]
  },
  {
   "cell_type": "code",
   "execution_count": 25,
   "id": "express-temperature",
   "metadata": {},
   "outputs": [
    {
     "data": {
      "text/html": [
       "<div>\n",
       "<style scoped>\n",
       "    .dataframe tbody tr th:only-of-type {\n",
       "        vertical-align: middle;\n",
       "    }\n",
       "\n",
       "    .dataframe tbody tr th {\n",
       "        vertical-align: top;\n",
       "    }\n",
       "\n",
       "    .dataframe thead th {\n",
       "        text-align: right;\n",
       "    }\n",
       "</style>\n",
       "<table border=\"1\" class=\"dataframe\">\n",
       "  <thead>\n",
       "    <tr style=\"text-align: right;\">\n",
       "      <th></th>\n",
       "      <th>Test</th>\n",
       "      <th>Reference</th>\n",
       "      <th>Similarity</th>\n",
       "      <th>Result</th>\n",
       "    </tr>\n",
       "  </thead>\n",
       "  <tbody>\n",
       "    <tr>\n",
       "      <th>155</th>\n",
       "      <td>1001</td>\n",
       "      <td>19</td>\n",
       "      <td>1.000000</td>\n",
       "      <td>1</td>\n",
       "    </tr>\n",
       "    <tr>\n",
       "      <th>382</th>\n",
       "      <td>1001</td>\n",
       "      <td>889</td>\n",
       "      <td>1.000000</td>\n",
       "      <td>1</td>\n",
       "    </tr>\n",
       "    <tr>\n",
       "      <th>406</th>\n",
       "      <td>1001</td>\n",
       "      <td>960</td>\n",
       "      <td>0.750000</td>\n",
       "      <td>1</td>\n",
       "    </tr>\n",
       "    <tr>\n",
       "      <th>1354</th>\n",
       "      <td>1008</td>\n",
       "      <td>128</td>\n",
       "      <td>1.000000</td>\n",
       "      <td>1</td>\n",
       "    </tr>\n",
       "    <tr>\n",
       "      <th>1545</th>\n",
       "      <td>1008</td>\n",
       "      <td>573</td>\n",
       "      <td>1.000000</td>\n",
       "      <td>1</td>\n",
       "    </tr>\n",
       "    <tr>\n",
       "      <th>...</th>\n",
       "      <td>...</td>\n",
       "      <td>...</td>\n",
       "      <td>...</td>\n",
       "      <td>...</td>\n",
       "    </tr>\n",
       "    <tr>\n",
       "      <th>174736</th>\n",
       "      <td>991</td>\n",
       "      <td>1036</td>\n",
       "      <td>0.666667</td>\n",
       "      <td>1</td>\n",
       "    </tr>\n",
       "    <tr>\n",
       "      <th>175109</th>\n",
       "      <td>991</td>\n",
       "      <td>908</td>\n",
       "      <td>1.000000</td>\n",
       "      <td>1</td>\n",
       "    </tr>\n",
       "    <tr>\n",
       "      <th>175135</th>\n",
       "      <td>991</td>\n",
       "      <td>990</td>\n",
       "      <td>1.000000</td>\n",
       "      <td>1</td>\n",
       "    </tr>\n",
       "    <tr>\n",
       "      <th>176162</th>\n",
       "      <td>996</td>\n",
       "      <td>269</td>\n",
       "      <td>0.923077</td>\n",
       "      <td>1</td>\n",
       "    </tr>\n",
       "    <tr>\n",
       "      <th>176441</th>\n",
       "      <td>999</td>\n",
       "      <td>1098</td>\n",
       "      <td>0.833333</td>\n",
       "      <td>1</td>\n",
       "    </tr>\n",
       "  </tbody>\n",
       "</table>\n",
       "<p>903 rows × 4 columns</p>\n",
       "</div>"
      ],
      "text/plain": [
       "        Test  Reference  Similarity  Result\n",
       "155     1001         19    1.000000       1\n",
       "382     1001        889    1.000000       1\n",
       "406     1001        960    0.750000       1\n",
       "1354    1008        128    1.000000       1\n",
       "1545    1008        573    1.000000       1\n",
       "...      ...        ...         ...     ...\n",
       "174736   991       1036    0.666667       1\n",
       "175109   991        908    1.000000       1\n",
       "175135   991        990    1.000000       1\n",
       "176162   996        269    0.923077       1\n",
       "176441   999       1098    0.833333       1\n",
       "\n",
       "[903 rows x 4 columns]"
      ]
     },
     "execution_count": 25,
     "metadata": {},
     "output_type": "execute_result"
    }
   ],
   "source": [
    "# read in stage 2 labels for final double check\n",
    "\n",
    "stage2_res_df =  pd.read_csv(\"stage2_result_labels.csv\")\n",
    "stage2_results = pd.Series(Y2)\n",
    "stage2_res_df['Result'] = stage2_results\n",
    "stage2_res_df = stage2_res_df.loc[stage2_res_df['Result'] == 1]\n",
    "stage2_res_df"
   ]
  },
  {
   "cell_type": "code",
   "execution_count": 30,
   "id": "intended-quarterly",
   "metadata": {},
   "outputs": [
    {
     "data": {
      "text/html": [
       "<div>\n",
       "<style scoped>\n",
       "    .dataframe tbody tr th:only-of-type {\n",
       "        vertical-align: middle;\n",
       "    }\n",
       "\n",
       "    .dataframe tbody tr th {\n",
       "        vertical-align: top;\n",
       "    }\n",
       "\n",
       "    .dataframe thead th {\n",
       "        text-align: right;\n",
       "    }\n",
       "</style>\n",
       "<table border=\"1\" class=\"dataframe\">\n",
       "  <thead>\n",
       "    <tr style=\"text-align: right;\">\n",
       "      <th></th>\n",
       "      <th>Test</th>\n",
       "      <th>Reference</th>\n",
       "      <th>Similarity</th>\n",
       "      <th>Result</th>\n",
       "    </tr>\n",
       "  </thead>\n",
       "  <tbody>\n",
       "    <tr>\n",
       "      <th>155</th>\n",
       "      <td>1001</td>\n",
       "      <td>19</td>\n",
       "      <td>1.000000</td>\n",
       "      <td>1</td>\n",
       "    </tr>\n",
       "    <tr>\n",
       "      <th>382</th>\n",
       "      <td>1001</td>\n",
       "      <td>889</td>\n",
       "      <td>1.000000</td>\n",
       "      <td>1</td>\n",
       "    </tr>\n",
       "    <tr>\n",
       "      <th>1354</th>\n",
       "      <td>1008</td>\n",
       "      <td>128</td>\n",
       "      <td>1.000000</td>\n",
       "      <td>1</td>\n",
       "    </tr>\n",
       "    <tr>\n",
       "      <th>1545</th>\n",
       "      <td>1008</td>\n",
       "      <td>573</td>\n",
       "      <td>1.000000</td>\n",
       "      <td>1</td>\n",
       "    </tr>\n",
       "    <tr>\n",
       "      <th>1546</th>\n",
       "      <td>1008</td>\n",
       "      <td>574</td>\n",
       "      <td>1.000000</td>\n",
       "      <td>1</td>\n",
       "    </tr>\n",
       "    <tr>\n",
       "      <th>...</th>\n",
       "      <td>...</td>\n",
       "      <td>...</td>\n",
       "      <td>...</td>\n",
       "      <td>...</td>\n",
       "    </tr>\n",
       "    <tr>\n",
       "      <th>171323</th>\n",
       "      <td>960</td>\n",
       "      <td>889</td>\n",
       "      <td>1.000000</td>\n",
       "      <td>1</td>\n",
       "    </tr>\n",
       "    <tr>\n",
       "      <th>175109</th>\n",
       "      <td>991</td>\n",
       "      <td>908</td>\n",
       "      <td>1.000000</td>\n",
       "      <td>1</td>\n",
       "    </tr>\n",
       "    <tr>\n",
       "      <th>175135</th>\n",
       "      <td>991</td>\n",
       "      <td>990</td>\n",
       "      <td>1.000000</td>\n",
       "      <td>1</td>\n",
       "    </tr>\n",
       "    <tr>\n",
       "      <th>176162</th>\n",
       "      <td>996</td>\n",
       "      <td>269</td>\n",
       "      <td>0.923077</td>\n",
       "      <td>1</td>\n",
       "    </tr>\n",
       "    <tr>\n",
       "      <th>176441</th>\n",
       "      <td>999</td>\n",
       "      <td>1098</td>\n",
       "      <td>0.833333</td>\n",
       "      <td>1</td>\n",
       "    </tr>\n",
       "  </tbody>\n",
       "</table>\n",
       "<p>825 rows × 4 columns</p>\n",
       "</div>"
      ],
      "text/plain": [
       "        Test  Reference  Similarity  Result\n",
       "155     1001         19    1.000000       1\n",
       "382     1001        889    1.000000       1\n",
       "1354    1008        128    1.000000       1\n",
       "1545    1008        573    1.000000       1\n",
       "1546    1008        574    1.000000       1\n",
       "...      ...        ...         ...     ...\n",
       "171323   960        889    1.000000       1\n",
       "175109   991        908    1.000000       1\n",
       "175135   991        990    1.000000       1\n",
       "176162   996        269    0.923077       1\n",
       "176441   999       1098    0.833333       1\n",
       "\n",
       "[825 rows x 4 columns]"
      ]
     },
     "execution_count": 30,
     "metadata": {},
     "output_type": "execute_result"
    }
   ],
   "source": [
    "# filter some ugly answers out\n",
    "stage2_res_df = stage2_res_df.loc[stage2_res_df.Similarity >= 0.78]\n",
    "stage2_res_df"
   ]
  },
  {
   "cell_type": "code",
   "execution_count": 31,
   "id": "powered-assistant",
   "metadata": {},
   "outputs": [],
   "source": [
    "# output results\n",
    "stage2_res_df[[\"Test\", \"Reference\"]].to_csv(\"csv_results/XBOOST_similarities_78.csv\", index=False)"
   ]
  },
  {
   "cell_type": "code",
   "execution_count": 32,
   "id": "computational-draft",
   "metadata": {},
   "outputs": [
    {
     "data": {
      "text/plain": [
       "['XBOOST_similarities_78.sav']"
      ]
     },
     "execution_count": 32,
     "metadata": {},
     "output_type": "execute_result"
    }
   ],
   "source": [
    "# save the model\n",
    "filename = 'XBOOST_similarities_78.sav'\n",
    "joblib.dump(clf3, filename)"
   ]
  },
  {
   "cell_type": "markdown",
   "id": "damaged-wayne",
   "metadata": {},
   "source": [
    "## 5. XGBoost feature times models\n",
    "- features order\n",
    "    - similarity(au_score), jaccard_once, jaccard_multi, tf_cosine_once_keyword, tfidf_cosine_once_keyword, tf_cosine_multi_keyword, tfidf_cosine_multi_keyword, sim_hash\n",
    "    - article_vectors (times)"
   ]
  },
  {
   "cell_type": "code",
   "execution_count": 33,
   "id": "strange-lebanon",
   "metadata": {},
   "outputs": [],
   "source": [
    "# read in train x data & train y labels & test x data\n",
    "X1 = np.load(\"../FeatureExtracting/X1_all.npy\")\n",
    "Y1 = np.load(\"../FeatureExtracting/Y1.npy\")\n",
    "X2 = np.load(\"../FeatureExtracting/X2_all.npy\")"
   ]
  },
  {
   "cell_type": "code",
   "execution_count": 35,
   "id": "attended-marketing",
   "metadata": {},
   "outputs": [
    {
     "data": {
      "text/plain": [
       "176820"
      ]
     },
     "execution_count": 35,
     "metadata": {},
     "output_type": "execute_result"
    }
   ],
   "source": [
    "len(X2)"
   ]
  },
  {
   "cell_type": "code",
   "execution_count": 36,
   "id": "exposed-combat",
   "metadata": {},
   "outputs": [
    {
     "data": {
      "text/plain": [
       "array([0, 0, 0, ..., 0, 0, 0], dtype=int64)"
      ]
     },
     "execution_count": 36,
     "metadata": {},
     "output_type": "execute_result"
    }
   ],
   "source": [
    "# encode labels\n",
    "from sklearn.preprocessing import LabelEncoder\n",
    "\n",
    "le = LabelEncoder()\n",
    "y = le.fit_transform(Y1)\n",
    "y"
   ]
  },
  {
   "cell_type": "code",
   "execution_count": 37,
   "id": "republican-genius",
   "metadata": {},
   "outputs": [],
   "source": [
    "# split train set & test set\n",
    "from sklearn.model_selection import train_test_split\n",
    "X1_train, X1_test, y1_train, y1_test = train_test_split(X1, y, test_size=0.3, random_state=1)"
   ]
  },
  {
   "cell_type": "code",
   "execution_count": 38,
   "id": "demographic-mauritius",
   "metadata": {},
   "outputs": [
    {
     "name": "stderr",
     "output_type": "stream",
     "text": [
      "C:\\ProgramData\\Anaconda3\\lib\\site-packages\\xgboost\\sklearn.py:1224: UserWarning: The use of label encoder in XGBClassifier is deprecated and will be removed in a future release. To remove this warning, do the following: 1) Pass option use_label_encoder=False when constructing XGBClassifier object; and 2) Encode your labels (y) as integers starting with 0, i.e. 0, 1, 2, ..., [num_class - 1].\n",
      "  warnings.warn(label_encoder_deprecation_msg, UserWarning)\n"
     ]
    },
    {
     "name": "stdout",
     "output_type": "stream",
     "text": [
      "[18:39:37] WARNING: C:/Users/Administrator/workspace/xgboost-win64_release_1.5.1/src/learner.cc:1115: Starting in XGBoost 1.3.0, the default evaluation metric used with the objective 'binary:logistic' was changed from 'error' to 'logloss'. Explicitly set eval_metric if you'd like to restore the old behavior.\n"
     ]
    }
   ],
   "source": [
    "# use XGBoost to classify\n",
    "from sklearn.utils import class_weight\n",
    "from xgboost.sklearn import XGBClassifier\n",
    "train_sample = class_weight.compute_sample_weight('balanced', y1_train)\n",
    "test_sample = class_weight.compute_sample_weight('balanced', y1_test)\n",
    "clf3 =  XGBClassifier(seed=1)\n",
    "clf3.fit(X1_train, y1_train, sample_weight=train_sample)# predict\n",
    "y1_pred = clf3.predict(X1_test)"
   ]
  },
  {
   "cell_type": "code",
   "execution_count": 39,
   "id": "seasonal-kinase",
   "metadata": {},
   "outputs": [],
   "source": [
    "# predict\n",
    "y1_pred = clf3.predict(X1_test)"
   ]
  },
  {
   "cell_type": "code",
   "execution_count": 40,
   "id": "banned-somalia",
   "metadata": {},
   "outputs": [
    {
     "data": {
      "text/plain": [
       "0.9613089934708278"
      ]
     },
     "execution_count": 40,
     "metadata": {},
     "output_type": "execute_result"
    }
   ],
   "source": [
    "# accuracy score for the result\n",
    "from sklearn.metrics import accuracy_score\n",
    "accuracy_score(y_true=y1_test, y_pred=y1_pred, sample_weight=test_sample)"
   ]
  },
  {
   "cell_type": "code",
   "execution_count": 41,
   "id": "silent-consideration",
   "metadata": {},
   "outputs": [
    {
     "name": "stdout",
     "output_type": "stream",
     "text": [
      "              precision    recall  f1-score   support\n",
      "\n",
      "           0     0.9997    0.9988    0.9992     93157\n",
      "           1     0.7776    0.9238    0.8444       420\n",
      "\n",
      "    accuracy                         0.9985     93577\n",
      "   macro avg     0.8886    0.9613    0.9218     93577\n",
      "weighted avg     0.9987    0.9985    0.9985     93577\n",
      "\n",
      "              precision    recall  f1-score   support\n",
      "\n",
      "           0     0.9291    0.9988    0.9627 46788.499999922635\n",
      "           1     0.9987    0.9238    0.9598 46788.50000000031\n",
      "\n",
      "    accuracy                         0.9613 93576.99999992295\n",
      "   macro avg     0.9639    0.9613    0.9613 93576.99999992295\n",
      "weighted avg     0.9639    0.9613    0.9613 93576.99999992295\n",
      "\n"
     ]
    }
   ],
   "source": [
    "from sklearn.metrics import classification_report\n",
    "print(classification_report(y_true=y1_test, y_pred=y1_pred, digits=4))\n",
    "print(classification_report(y_true=y1_test, y_pred=y1_pred, digits=4, sample_weight=test_sample))"
   ]
  },
  {
   "cell_type": "code",
   "execution_count": 42,
   "id": "earned-familiar",
   "metadata": {},
   "outputs": [],
   "source": [
    "# predict stage 2\n",
    "Y2 = clf3.predict(X2)"
   ]
  },
  {
   "cell_type": "code",
   "execution_count": 43,
   "id": "express-temperature",
   "metadata": {},
   "outputs": [
    {
     "data": {
      "text/html": [
       "<div>\n",
       "<style scoped>\n",
       "    .dataframe tbody tr th:only-of-type {\n",
       "        vertical-align: middle;\n",
       "    }\n",
       "\n",
       "    .dataframe tbody tr th {\n",
       "        vertical-align: top;\n",
       "    }\n",
       "\n",
       "    .dataframe thead th {\n",
       "        text-align: right;\n",
       "    }\n",
       "</style>\n",
       "<table border=\"1\" class=\"dataframe\">\n",
       "  <thead>\n",
       "    <tr style=\"text-align: right;\">\n",
       "      <th></th>\n",
       "      <th>Test</th>\n",
       "      <th>Reference</th>\n",
       "      <th>Similarity</th>\n",
       "      <th>Result</th>\n",
       "    </tr>\n",
       "  </thead>\n",
       "  <tbody>\n",
       "    <tr>\n",
       "      <th>155</th>\n",
       "      <td>1001</td>\n",
       "      <td>19</td>\n",
       "      <td>1.0</td>\n",
       "      <td>1</td>\n",
       "    </tr>\n",
       "    <tr>\n",
       "      <th>382</th>\n",
       "      <td>1001</td>\n",
       "      <td>889</td>\n",
       "      <td>1.0</td>\n",
       "      <td>1</td>\n",
       "    </tr>\n",
       "    <tr>\n",
       "      <th>1354</th>\n",
       "      <td>1008</td>\n",
       "      <td>128</td>\n",
       "      <td>1.0</td>\n",
       "      <td>1</td>\n",
       "    </tr>\n",
       "    <tr>\n",
       "      <th>1545</th>\n",
       "      <td>1008</td>\n",
       "      <td>573</td>\n",
       "      <td>1.0</td>\n",
       "      <td>1</td>\n",
       "    </tr>\n",
       "    <tr>\n",
       "      <th>1546</th>\n",
       "      <td>1008</td>\n",
       "      <td>574</td>\n",
       "      <td>1.0</td>\n",
       "      <td>1</td>\n",
       "    </tr>\n",
       "    <tr>\n",
       "      <th>...</th>\n",
       "      <td>...</td>\n",
       "      <td>...</td>\n",
       "      <td>...</td>\n",
       "      <td>...</td>\n",
       "    </tr>\n",
       "    <tr>\n",
       "      <th>175684</th>\n",
       "      <td>994</td>\n",
       "      <td>1353</td>\n",
       "      <td>0.0</td>\n",
       "      <td>1</td>\n",
       "    </tr>\n",
       "    <tr>\n",
       "      <th>175908</th>\n",
       "      <td>994</td>\n",
       "      <td>765</td>\n",
       "      <td>0.0</td>\n",
       "      <td>1</td>\n",
       "    </tr>\n",
       "    <tr>\n",
       "      <th>175911</th>\n",
       "      <td>994</td>\n",
       "      <td>772</td>\n",
       "      <td>0.0</td>\n",
       "      <td>1</td>\n",
       "    </tr>\n",
       "    <tr>\n",
       "      <th>175917</th>\n",
       "      <td>994</td>\n",
       "      <td>80</td>\n",
       "      <td>0.0</td>\n",
       "      <td>1</td>\n",
       "    </tr>\n",
       "    <tr>\n",
       "      <th>175976</th>\n",
       "      <td>994</td>\n",
       "      <td>991</td>\n",
       "      <td>0.0</td>\n",
       "      <td>1</td>\n",
       "    </tr>\n",
       "  </tbody>\n",
       "</table>\n",
       "<p>811 rows × 4 columns</p>\n",
       "</div>"
      ],
      "text/plain": [
       "        Test  Reference  Similarity  Result\n",
       "155     1001         19         1.0       1\n",
       "382     1001        889         1.0       1\n",
       "1354    1008        128         1.0       1\n",
       "1545    1008        573         1.0       1\n",
       "1546    1008        574         1.0       1\n",
       "...      ...        ...         ...     ...\n",
       "175684   994       1353         0.0       1\n",
       "175908   994        765         0.0       1\n",
       "175911   994        772         0.0       1\n",
       "175917   994         80         0.0       1\n",
       "175976   994        991         0.0       1\n",
       "\n",
       "[811 rows x 4 columns]"
      ]
     },
     "execution_count": 43,
     "metadata": {},
     "output_type": "execute_result"
    }
   ],
   "source": [
    "# read in stage 2 labels for final double check\n",
    "\n",
    "stage2_res_df =  pd.read_csv(\"stage2_result_labels.csv\")\n",
    "stage2_results = pd.Series(Y2)\n",
    "stage2_res_df['Result'] = stage2_results\n",
    "stage2_res_df = stage2_res_df.loc[stage2_res_df['Result'] == 1]\n",
    "stage2_res_df"
   ]
  },
  {
   "cell_type": "code",
   "execution_count": 51,
   "id": "enormous-bible",
   "metadata": {},
   "outputs": [
    {
     "data": {
      "text/html": [
       "<div>\n",
       "<style scoped>\n",
       "    .dataframe tbody tr th:only-of-type {\n",
       "        vertical-align: middle;\n",
       "    }\n",
       "\n",
       "    .dataframe tbody tr th {\n",
       "        vertical-align: top;\n",
       "    }\n",
       "\n",
       "    .dataframe thead th {\n",
       "        text-align: right;\n",
       "    }\n",
       "</style>\n",
       "<table border=\"1\" class=\"dataframe\">\n",
       "  <thead>\n",
       "    <tr style=\"text-align: right;\">\n",
       "      <th></th>\n",
       "      <th>Test</th>\n",
       "      <th>Reference</th>\n",
       "      <th>Similarity</th>\n",
       "      <th>Result</th>\n",
       "    </tr>\n",
       "  </thead>\n",
       "  <tbody>\n",
       "    <tr>\n",
       "      <th>155</th>\n",
       "      <td>1001</td>\n",
       "      <td>19</td>\n",
       "      <td>1.0</td>\n",
       "      <td>1</td>\n",
       "    </tr>\n",
       "    <tr>\n",
       "      <th>382</th>\n",
       "      <td>1001</td>\n",
       "      <td>889</td>\n",
       "      <td>1.0</td>\n",
       "      <td>1</td>\n",
       "    </tr>\n",
       "    <tr>\n",
       "      <th>1354</th>\n",
       "      <td>1008</td>\n",
       "      <td>128</td>\n",
       "      <td>1.0</td>\n",
       "      <td>1</td>\n",
       "    </tr>\n",
       "    <tr>\n",
       "      <th>1545</th>\n",
       "      <td>1008</td>\n",
       "      <td>573</td>\n",
       "      <td>1.0</td>\n",
       "      <td>1</td>\n",
       "    </tr>\n",
       "    <tr>\n",
       "      <th>1546</th>\n",
       "      <td>1008</td>\n",
       "      <td>574</td>\n",
       "      <td>1.0</td>\n",
       "      <td>1</td>\n",
       "    </tr>\n",
       "    <tr>\n",
       "      <th>...</th>\n",
       "      <td>...</td>\n",
       "      <td>...</td>\n",
       "      <td>...</td>\n",
       "      <td>...</td>\n",
       "    </tr>\n",
       "    <tr>\n",
       "      <th>171094</th>\n",
       "      <td>960</td>\n",
       "      <td>177</td>\n",
       "      <td>1.0</td>\n",
       "      <td>1</td>\n",
       "    </tr>\n",
       "    <tr>\n",
       "      <th>171323</th>\n",
       "      <td>960</td>\n",
       "      <td>889</td>\n",
       "      <td>1.0</td>\n",
       "      <td>1</td>\n",
       "    </tr>\n",
       "    <tr>\n",
       "      <th>174945</th>\n",
       "      <td>991</td>\n",
       "      <td>407</td>\n",
       "      <td>1.0</td>\n",
       "      <td>1</td>\n",
       "    </tr>\n",
       "    <tr>\n",
       "      <th>175016</th>\n",
       "      <td>991</td>\n",
       "      <td>615</td>\n",
       "      <td>1.0</td>\n",
       "      <td>1</td>\n",
       "    </tr>\n",
       "    <tr>\n",
       "      <th>175109</th>\n",
       "      <td>991</td>\n",
       "      <td>908</td>\n",
       "      <td>1.0</td>\n",
       "      <td>1</td>\n",
       "    </tr>\n",
       "  </tbody>\n",
       "</table>\n",
       "<p>726 rows × 4 columns</p>\n",
       "</div>"
      ],
      "text/plain": [
       "        Test  Reference  Similarity  Result\n",
       "155     1001         19         1.0       1\n",
       "382     1001        889         1.0       1\n",
       "1354    1008        128         1.0       1\n",
       "1545    1008        573         1.0       1\n",
       "1546    1008        574         1.0       1\n",
       "...      ...        ...         ...     ...\n",
       "171094   960        177         1.0       1\n",
       "171323   960        889         1.0       1\n",
       "174945   991        407         1.0       1\n",
       "175016   991        615         1.0       1\n",
       "175109   991        908         1.0       1\n",
       "\n",
       "[726 rows x 4 columns]"
      ]
     },
     "execution_count": 51,
     "metadata": {},
     "output_type": "execute_result"
    }
   ],
   "source": [
    "# some double check\n",
    "stage2_res_df.loc[stage2_res_df.Similarity >= 0.78]"
   ]
  },
  {
   "cell_type": "code",
   "execution_count": 52,
   "id": "intended-quarterly",
   "metadata": {},
   "outputs": [
    {
     "data": {
      "text/html": [
       "<div>\n",
       "<style scoped>\n",
       "    .dataframe tbody tr th:only-of-type {\n",
       "        vertical-align: middle;\n",
       "    }\n",
       "\n",
       "    .dataframe tbody tr th {\n",
       "        vertical-align: top;\n",
       "    }\n",
       "\n",
       "    .dataframe thead th {\n",
       "        text-align: right;\n",
       "    }\n",
       "</style>\n",
       "<table border=\"1\" class=\"dataframe\">\n",
       "  <thead>\n",
       "    <tr style=\"text-align: right;\">\n",
       "      <th></th>\n",
       "      <th>Test</th>\n",
       "      <th>Reference</th>\n",
       "      <th>Similarity</th>\n",
       "      <th>Result</th>\n",
       "    </tr>\n",
       "  </thead>\n",
       "  <tbody>\n",
       "    <tr>\n",
       "      <th>155</th>\n",
       "      <td>1001</td>\n",
       "      <td>19</td>\n",
       "      <td>1.0</td>\n",
       "      <td>1</td>\n",
       "    </tr>\n",
       "    <tr>\n",
       "      <th>382</th>\n",
       "      <td>1001</td>\n",
       "      <td>889</td>\n",
       "      <td>1.0</td>\n",
       "      <td>1</td>\n",
       "    </tr>\n",
       "    <tr>\n",
       "      <th>1354</th>\n",
       "      <td>1008</td>\n",
       "      <td>128</td>\n",
       "      <td>1.0</td>\n",
       "      <td>1</td>\n",
       "    </tr>\n",
       "    <tr>\n",
       "      <th>1545</th>\n",
       "      <td>1008</td>\n",
       "      <td>573</td>\n",
       "      <td>1.0</td>\n",
       "      <td>1</td>\n",
       "    </tr>\n",
       "    <tr>\n",
       "      <th>1546</th>\n",
       "      <td>1008</td>\n",
       "      <td>574</td>\n",
       "      <td>1.0</td>\n",
       "      <td>1</td>\n",
       "    </tr>\n",
       "    <tr>\n",
       "      <th>...</th>\n",
       "      <td>...</td>\n",
       "      <td>...</td>\n",
       "      <td>...</td>\n",
       "      <td>...</td>\n",
       "    </tr>\n",
       "    <tr>\n",
       "      <th>171094</th>\n",
       "      <td>960</td>\n",
       "      <td>177</td>\n",
       "      <td>1.0</td>\n",
       "      <td>1</td>\n",
       "    </tr>\n",
       "    <tr>\n",
       "      <th>171323</th>\n",
       "      <td>960</td>\n",
       "      <td>889</td>\n",
       "      <td>1.0</td>\n",
       "      <td>1</td>\n",
       "    </tr>\n",
       "    <tr>\n",
       "      <th>174945</th>\n",
       "      <td>991</td>\n",
       "      <td>407</td>\n",
       "      <td>1.0</td>\n",
       "      <td>1</td>\n",
       "    </tr>\n",
       "    <tr>\n",
       "      <th>175016</th>\n",
       "      <td>991</td>\n",
       "      <td>615</td>\n",
       "      <td>1.0</td>\n",
       "      <td>1</td>\n",
       "    </tr>\n",
       "    <tr>\n",
       "      <th>175109</th>\n",
       "      <td>991</td>\n",
       "      <td>908</td>\n",
       "      <td>1.0</td>\n",
       "      <td>1</td>\n",
       "    </tr>\n",
       "  </tbody>\n",
       "</table>\n",
       "<p>726 rows × 4 columns</p>\n",
       "</div>"
      ],
      "text/plain": [
       "        Test  Reference  Similarity  Result\n",
       "155     1001         19         1.0       1\n",
       "382     1001        889         1.0       1\n",
       "1354    1008        128         1.0       1\n",
       "1545    1008        573         1.0       1\n",
       "1546    1008        574         1.0       1\n",
       "...      ...        ...         ...     ...\n",
       "171094   960        177         1.0       1\n",
       "171323   960        889         1.0       1\n",
       "174945   991        407         1.0       1\n",
       "175016   991        615         1.0       1\n",
       "175109   991        908         1.0       1\n",
       "\n",
       "[726 rows x 4 columns]"
      ]
     },
     "execution_count": 52,
     "metadata": {},
     "output_type": "execute_result"
    }
   ],
   "source": [
    "# filter some ugly answers out\n",
    "stage2_res_df = stage2_res_df.loc[stage2_res_df.Similarity >= 0.78]\n",
    "stage2_res_df"
   ]
  },
  {
   "cell_type": "code",
   "execution_count": 53,
   "id": "powered-assistant",
   "metadata": {},
   "outputs": [],
   "source": [
    "# output results\n",
    "stage2_res_df[[\"Test\", \"Reference\"]].to_csv(\"csv_results/XBOOST_feature_times_78.csv\", index=False)"
   ]
  },
  {
   "cell_type": "code",
   "execution_count": 54,
   "id": "computational-draft",
   "metadata": {},
   "outputs": [
    {
     "data": {
      "text/plain": [
       "['5_XGBOST_feature_times_model.sav']"
      ]
     },
     "execution_count": 54,
     "metadata": {},
     "output_type": "execute_result"
    }
   ],
   "source": [
    "# save the model\n",
    "filename = '5_XGBOST_feature_times_model.sav'\n",
    "joblib.dump(clf3, filename)"
   ]
  },
  {
   "cell_type": "code",
   "execution_count": null,
   "id": "muslim-midnight",
   "metadata": {},
   "outputs": [],
   "source": []
  }
 ],
 "metadata": {
  "kernelspec": {
   "display_name": "Python 3",
   "language": "python",
   "name": "python3"
  },
  "language_info": {
   "codemirror_mode": {
    "name": "ipython",
    "version": 3
   },
   "file_extension": ".py",
   "mimetype": "text/x-python",
   "name": "python",
   "nbconvert_exporter": "python",
   "pygments_lexer": "ipython3",
   "version": "3.6.5"
  }
 },
 "nbformat": 4,
 "nbformat_minor": 5
}
